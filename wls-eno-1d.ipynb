{
 "cells": [
  {
   "cell_type": "markdown",
   "metadata": {},
   "source": [
    "# WLS-ENO方法"
   ]
  },
  {
   "cell_type": "markdown",
   "metadata": {},
   "source": [
    "已知未知量在网格单元内的平均值$\\overline{f}_i$\n",
    "\n",
    "- 根据一定的计算模版$\\{I_j:j \\in S_i\\}$重构出网格单元$i$的近似分布$\\tilde{f}_i(x)$\n",
    "\n",
    "$$\\overline{f}_i = \\frac{1}{\\vert \\Omega_i \\vert} \\int_{\\Omega_i} \\tilde{f}_i(x) dx$$\n",
    "\n",
    "其中$S_i$是网格单元$i$的邻居单元编号集合，也即是计算模版，$\\vert \\Omega_i \\vert$是网格单元$i$的体积\n",
    "\n",
    "- 在两个网格单元的交界面会得到两个值$q^-$和$q^+$，用来计算数值通量\n",
    "\n",
    "- $p$次多项式形式为\n",
    "\n",
    "$$\\tilde{f}_i(x) = c_0 + c_1 x + c_2 x^2 + \\dots + c_p x^p$$\n",
    "\n"
   ]
  },
  {
   "cell_type": "code",
   "execution_count": 1,
   "metadata": {},
   "outputs": [],
   "source": [
    "from numpy import linspace, arange, float64, zeros, sin, pi, poly1d, abs, max\n",
    "from numpy.linalg import lstsq\n",
    "import matplotlib.pyplot as plt"
   ]
  },
  {
   "cell_type": "markdown",
   "metadata": {},
   "source": [
    "# 设置计算参数"
   ]
  },
  {
   "cell_type": "code",
   "execution_count": 2,
   "metadata": {},
   "outputs": [],
   "source": [
    "nx = 64     # Grid number\n",
    "np = 9      # Polynomial degree\n",
    "ns = 13     # Stencil width\n",
    "dt = 0.0005 # Time step size (s)\n",
    "nt = 2 / dt # Time step number"
   ]
  },
  {
   "cell_type": "markdown",
   "metadata": {},
   "source": [
    "# 设置内部常数"
   ]
  },
  {
   "cell_type": "markdown",
   "metadata": {},
   "source": [
    "通信边界宽度"
   ]
  },
  {
   "cell_type": "code",
   "execution_count": 367,
   "metadata": {},
   "outputs": [],
   "source": [
    "nh = int((ns - 1) / 2)"
   ]
  },
  {
   "cell_type": "markdown",
   "metadata": {},
   "source": [
    "网格编号边界（用于取实际计算网格）"
   ]
  },
  {
   "cell_type": "code",
   "execution_count": 368,
   "metadata": {},
   "outputs": [],
   "source": [
    "ib = nh\n",
    "ie = nx + nh # +1"
   ]
  },
  {
   "cell_type": "markdown",
   "metadata": {},
   "source": [
    "计算模版中心的相对编号"
   ]
  },
  {
   "cell_type": "code",
   "execution_count": 369,
   "metadata": {},
   "outputs": [],
   "source": [
    "s0 = nh"
   ]
  },
  {
   "cell_type": "markdown",
   "metadata": {},
   "source": [
    "# 设置网格\n",
    "\n",
    "这里先假设是等距网格"
   ]
  },
  {
   "cell_type": "code",
   "execution_count": 370,
   "metadata": {},
   "outputs": [],
   "source": [
    "min_x = -1\n",
    "max_x =  1"
   ]
  },
  {
   "cell_type": "code",
   "execution_count": 371,
   "metadata": {},
   "outputs": [
    {
     "data": {
      "text/plain": [
       "0.03125"
      ]
     },
     "execution_count": 371,
     "metadata": {},
     "output_type": "execute_result"
    }
   ],
   "source": [
    "dx = (max_x - min_x) / nx\n",
    "dx"
   ]
  },
  {
   "cell_type": "markdown",
   "metadata": {},
   "source": [
    "网格中心点坐标"
   ]
  },
  {
   "cell_type": "code",
   "execution_count": 372,
   "metadata": {},
   "outputs": [
    {
     "data": {
      "text/plain": [
       "array([-1.1875 , -1.15625, -1.125  , -1.09375, -1.0625 , -1.03125,\n",
       "       -1.     , -0.96875, -0.9375 , -0.90625, -0.875  , -0.84375,\n",
       "       -0.8125 , -0.78125, -0.75   , -0.71875, -0.6875 , -0.65625,\n",
       "       -0.625  , -0.59375, -0.5625 , -0.53125, -0.5    , -0.46875,\n",
       "       -0.4375 , -0.40625, -0.375  , -0.34375, -0.3125 , -0.28125,\n",
       "       -0.25   , -0.21875, -0.1875 , -0.15625, -0.125  , -0.09375,\n",
       "       -0.0625 , -0.03125,  0.     ,  0.03125,  0.0625 ,  0.09375,\n",
       "        0.125  ,  0.15625,  0.1875 ,  0.21875,  0.25   ,  0.28125,\n",
       "        0.3125 ,  0.34375,  0.375  ,  0.40625,  0.4375 ,  0.46875,\n",
       "        0.5    ,  0.53125,  0.5625 ,  0.59375,  0.625  ,  0.65625,\n",
       "        0.6875 ,  0.71875,  0.75   ,  0.78125,  0.8125 ,  0.84375,\n",
       "        0.875  ,  0.90625,  0.9375 ,  0.96875,  1.     ,  1.03125,\n",
       "        1.0625 ,  1.09375,  1.125  ,  1.15625])"
      ]
     },
     "execution_count": 372,
     "metadata": {},
     "output_type": "execute_result"
    }
   ],
   "source": [
    "x = arange(min_x - dx * nh, max_x + dx * nh, dx, dtype=float64)\n",
    "x"
   ]
  },
  {
   "cell_type": "markdown",
   "metadata": {},
   "source": [
    "网格边界坐标"
   ]
  },
  {
   "cell_type": "code",
   "execution_count": 373,
   "metadata": {},
   "outputs": [
    {
     "data": {
      "text/plain": [
       "array([-1.203125, -1.171875, -1.140625, -1.109375, -1.078125, -1.046875,\n",
       "       -1.015625, -0.984375, -0.953125, -0.921875, -0.890625, -0.859375,\n",
       "       -0.828125, -0.796875, -0.765625, -0.734375, -0.703125, -0.671875,\n",
       "       -0.640625, -0.609375, -0.578125, -0.546875, -0.515625, -0.484375,\n",
       "       -0.453125, -0.421875, -0.390625, -0.359375, -0.328125, -0.296875,\n",
       "       -0.265625, -0.234375, -0.203125, -0.171875, -0.140625, -0.109375,\n",
       "       -0.078125, -0.046875, -0.015625,  0.015625,  0.046875,  0.078125,\n",
       "        0.109375,  0.140625,  0.171875,  0.203125,  0.234375,  0.265625,\n",
       "        0.296875,  0.328125,  0.359375,  0.390625,  0.421875,  0.453125,\n",
       "        0.484375,  0.515625,  0.546875,  0.578125,  0.609375,  0.640625,\n",
       "        0.671875,  0.703125,  0.734375,  0.765625,  0.796875,  0.828125,\n",
       "        0.859375,  0.890625,  0.921875,  0.953125,  0.984375,  1.015625,\n",
       "        1.046875,  1.078125,  1.109375,  1.140625])"
      ]
     },
     "execution_count": 373,
     "metadata": {},
     "output_type": "execute_result"
    }
   ],
   "source": [
    "xi = arange(x[0] - dx / 2, x[-1] + dx / 2, dx, dtype=float64)\n",
    "xi"
   ]
  },
  {
   "cell_type": "markdown",
   "metadata": {},
   "source": [
    "# 边界条件"
   ]
  },
  {
   "cell_type": "code",
   "execution_count": 374,
   "metadata": {},
   "outputs": [],
   "source": [
    "def periodic_boundary(nh, f):\n",
    "    f[:nh] = f[len(f)-2*nh:len(f)-nh]\n",
    "    f[len(f)-nh:] = f[nh:2*nh]"
   ]
  },
  {
   "cell_type": "markdown",
   "metadata": {},
   "source": [
    "# 重构矩阵"
   ]
  },
  {
   "cell_type": "markdown",
   "metadata": {},
   "source": [
    "重构矩阵的维度大小为$(模版大小,多项式次数+1)$，以一维情况为例：\n",
    "$$\n",
    "\\mathbf{R} = \\left[ \\begin{array}{cccc}\n",
    "  \\frac{1}{\\Delta{x}_{i-s}} \\left(x_{i-s+\\frac{1}{2}} - x_{i-s-\\frac{1}{2}}\\right) & \\frac{1}{2} \\frac{1}{\\Delta{x}_{i-s}} \\left(x_{i-s+\\frac{1}{2}}^2 - x_{i-s-\\frac{1}{2}}^2\\right) & \\dots & \\frac{1}{p+1} \\frac{1}{\\Delta{x}_{i-s}} \\left(x_{i-s+\\frac{1}{2}}^{p+1} - x_{i-s-\\frac{1}{2}}^{p+1}\\right) \\\\\n",
    "  \\vdots & \\vdots & \\vdots & \\vdots \\\\\n",
    "  \\frac{1}{\\Delta{x}_{i}} \\left(x_{i+\\frac{1}{2}} - x_{i-\\frac{1}{2}}\\right) & \\frac{1}{2} \\frac{1}{\\Delta{x}_{i}} \\left(x_{i+\\frac{1}{2}}^2 - x_{i-\\frac{1}{2}}^2\\right) & \\dots & \\frac{1}{p+1} \\frac{1}{\\Delta{x}_{i}} \\left(x_{i+\\frac{1}{2}}^{p+1} - x_{i-\\frac{1}{2}}^{p+1}\\right) \\\\\n",
    "  \\vdots & \\vdots & \\vdots & \\vdots \\\\\n",
    "  \\frac{1}{\\Delta{x}_{i-s}} \\left(x_{i-s+\\frac{1}{2}} - x_{i-s-\\frac{1}{2}}\\right) & \\frac{1}{2} \\frac{1}{\\Delta{x}_{i-s}} \\left(x_{i-s+\\frac{1}{2}}^2 - x_{i-s-\\frac{1}{2}}^2\\right) & \\dots & \\frac{1}{p+1} \\frac{1}{\\Delta{x}_{i-s}} \\left(x_{i-s+\\frac{1}{2}}^{p+1} - x_{i-s-\\frac{1}{2}}^{p+1}\\right)\n",
    "\\end{array} \\right]\n",
    "$$\n",
    "\n",
    "其中$s$是网格单元$i$一侧的邻居网格数量。\n",
    "\n",
    "$$\\min \\|\\mathbf{W} \\mathbf{R} \\mathbf{c} - \\mathbf{W} \\overline{\\mathbf{f}}\\|_2$$\n",
    "\n",
    "其中$\\mathbf{W}$是对角权重矩阵，维度大小为$(模版大小,模版大小)$，向量$\\mathbf{c}$是待求重构系数或多项式系数。"
   ]
  },
  {
   "cell_type": "code",
   "execution_count": 375,
   "metadata": {},
   "outputs": [
    {
     "name": "stdout",
     "output_type": "stream",
     "text": [
      "0 -0.203125 -0.1875 -0.171875\n",
      "1 -0.171875 -0.15625 -0.140625\n",
      "2 -0.140625 -0.125 -0.109375\n",
      "3 -0.109375 -0.09375 -0.078125\n",
      "4 -0.078125 -0.0625 -0.046875\n",
      "5 -0.046875 -0.03125 -0.015625\n",
      "6 -0.015625 0.0 0.015625\n",
      "7 0.015625 0.03125 0.046875\n",
      "8 0.046875 0.0625 0.078125\n",
      "9 0.078125 0.09375 0.109375\n",
      "10 0.109375 0.125 0.140625\n",
      "11 0.140625 0.15625 0.171875\n",
      "12 0.171875 0.1875 0.203125\n"
     ]
    }
   ],
   "source": [
    "R = zeros([ns, np+1])\n",
    "\n",
    "for j in range(ns):\n",
    "    # Relative coordinate (assume uniform grid interval)\n",
    "    #\n",
    "    #        o           o     ...    o    ...    o           o\n",
    "    #  -(ns-1)/2*dx                   0                  (ns-1)/2*dx\n",
    "    #\n",
    "    xj = (j - s0) * dx\n",
    "    xl = xj - dx / 2\n",
    "    xr = xj + dx / 2\n",
    "    print(j, xl, xj, xr)\n",
    "    for p in range(np+1):\n",
    "        R[j,p] = (xr**(p + 1) - xl**(p + 1)) / (p + 1) / dx"
   ]
  },
  {
   "cell_type": "markdown",
   "metadata": {},
   "source": [
    "# 初始条件"
   ]
  },
  {
   "cell_type": "markdown",
   "metadata": {},
   "source": [
    "## 方波"
   ]
  },
  {
   "cell_type": "code",
   "execution_count": 377,
   "metadata": {},
   "outputs": [],
   "source": [
    "def square_initial_condition(x):\n",
    "    f = zeros(len(x))\n",
    "    for i in range(len(x)):\n",
    "        if -0.4 <= x[i] <= 0.4: f[i] = 1\n",
    "    return f"
   ]
  },
  {
   "cell_type": "markdown",
   "metadata": {},
   "source": [
    "## 正弦函数"
   ]
  },
  {
   "cell_type": "code",
   "execution_count": 378,
   "metadata": {},
   "outputs": [],
   "source": [
    "def sine_initial_condition(x):\n",
    "    f = sin(x / (max_x - min_x) * 2 * pi)\n",
    "    return f"
   ]
  },
  {
   "cell_type": "markdown",
   "metadata": {},
   "source": [
    "# 设置速度"
   ]
  },
  {
   "cell_type": "markdown",
   "metadata": {},
   "source": [
    "u = zeros(len(xi))"
   ]
  },
  {
   "cell_type": "markdown",
   "metadata": {},
   "source": [
    "## 常速度"
   ]
  },
  {
   "cell_type": "code",
   "execution_count": 379,
   "metadata": {},
   "outputs": [],
   "source": [
    "u[:] = 1"
   ]
  },
  {
   "cell_type": "markdown",
   "metadata": {},
   "source": [
    "# 一维平流空间算子"
   ]
  },
  {
   "cell_type": "markdown",
   "metadata": {},
   "source": [
    "使用了Lax-Friedrichs通量分裂算法\n",
    "\n",
    "$$F_{i+\\frac{1}{2}} = \\frac{1}{2} \\left[\\left(F(f_{i+\\frac{1}{2}}^-) + F(f_{i+\\frac{1}{2}}^+)\\right) - \\alpha \\left(f_{i+\\frac{1}{2}}^+ - f_{i+\\frac{1}{2}}^-\\right)\\right]$$\n",
    "\n",
    "其中$f_{i+\\frac{1}{2}}^-$和$f_{i+\\frac{1}{2}}^+$是边界$i+\\frac{1}{2}$上左边值（来自网格单元$i$的重构）和右边值（来自网格单元$i+1$的重构）。"
   ]
  },
  {
   "cell_type": "code",
   "execution_count": 386,
   "metadata": {},
   "outputs": [],
   "source": [
    "def space_operator(nx, x, dx, f):\n",
    "    eps = 1.0e-5\n",
    "    alpha = 10\n",
    "    \n",
    "    fl = zeros(len(x))\n",
    "    fr = zeros(len(x))\n",
    "    for i in range(ib, ie):\n",
    "        fs = zeros(ns) # Stencil values\n",
    "        si = zeros(ns) # Smoothness indicator\n",
    "        for j in range(ns):\n",
    "            fs[j] = f[i-nh+j]\n",
    "            si[j] = (fs[j] - f[i])**2 + eps * (x[i-nh+j] - x[i])**2\n",
    "        si[s0] = min(si[s0-1], si[s0+1])\n",
    "        \n",
    "        W = zeros([ns, ns])\n",
    "        for j in range(ns):\n",
    "            W[j,j] = 1 / si[j]\n",
    "        W[s0,s0] *= alpha\n",
    "        \n",
    "        c = lstsq(W.dot(R), W.dot(fs), rcond=None)[0]\n",
    "        fpoly = poly1d(list(reversed(c)))\n",
    "        \n",
    "        # Get the values of left and right edges of cell i.\n",
    "        fl[i] = fpoly(-dx / 2)\n",
    "        fr[i] = fpoly( dx / 2)\n",
    "\n",
    "    # Apply boundary conditions.\n",
    "    periodic_boundary(1, fl[ib-1:ie+1])\n",
    "    \n",
    "    # Calculate numerical flux at right interfaces of cells.\n",
    "    F = zeros(nx+2)\n",
    "    F[1:nx] = 0.5 * (u[ib+1:ie] * (fl[ib+1:ie] + fr[ib:ie-1]) - max(abs(u)) * (fl[ib+1:ie] - fr[ib:ie-1]))\n",
    "    periodic_boundary(1, F)\n",
    "    dFdx = (F[1:-1] - F[:-2]) / dx\n",
    "    return dFdx"
   ]
  },
  {
   "cell_type": "code",
   "execution_count": 387,
   "metadata": {},
   "outputs": [
    {
     "data": {
      "text/plain": [
       "(64,)"
      ]
     },
     "execution_count": 387,
     "metadata": {},
     "output_type": "execute_result"
    }
   ],
   "source": [
    "space_operator(nx, x, dx, f).shape"
   ]
  },
  {
   "cell_type": "markdown",
   "metadata": {},
   "source": [
    "# 时间积分方案"
   ]
  },
  {
   "cell_type": "code",
   "execution_count": 388,
   "metadata": {},
   "outputs": [],
   "source": [
    "def update(dt, dFdx, f):\n",
    "    f_new = f\n",
    "    f_new[ib:ie] = f[ib:ie] - dt * dFdx\n",
    "    periodic_boundary(nh, f_new)\n",
    "    return f_new"
   ]
  },
  {
   "cell_type": "markdown",
   "metadata": {},
   "source": [
    "## 四阶Runge-Kutta"
   ]
  },
  {
   "cell_type": "code",
   "execution_count": 389,
   "metadata": {},
   "outputs": [],
   "source": [
    "def rk4(nx, x, dx, dt, f):\n",
    "    dFdx1 = space_operator(nx, x, dx, f)\n",
    "    f2 = update(0.5 * dt, dFdx1, f)\n",
    "\n",
    "    dFdx2 = space_operator(nx, x, dx, f2)\n",
    "    f3 = update(0.5 * dt, dFdx2, f)\n",
    "\n",
    "    dFdx3 = space_operator(nx, x, dx, f3)\n",
    "    f4 = update(dt, dFdx3, f)\n",
    "\n",
    "    dFdx4 = space_operator(nx, x, dx, f4)\n",
    "\n",
    "    dFdx = (dFdx1 + 2 * dFdx2 + 2 * dFdx3 + dFdx4) / 6\n",
    "\n",
    "    return update(dt, dFdx, f)"
   ]
  },
  {
   "cell_type": "markdown",
   "metadata": {},
   "source": [
    "# 运行模拟"
   ]
  },
  {
   "cell_type": "code",
   "execution_count": 391,
   "metadata": {},
   "outputs": [
    {
     "data": {
      "image/png": "[encoded data removed]",
      "text/plain": [
       "<Figure size 864x576 with 1 Axes>"
      ]
     },
     "metadata": {
      "needs_background": "light"
     },
     "output_type": "display_data"
    }
   ],
   "source": [
    "f = sine_initial_condition(x)\n",
    "\n",
    "plt.figure(figsize=(12, 8))\n",
    "plt.plot(x[ib:ie], f[ib:ie], color='red')\n",
    "\n",
    "t = 0\n",
    "while t <= 20:\n",
    "    f = rk4(nx, x, dx, dt, f)\n",
    "    t += 1\n",
    "\n",
    "plt.plot(x[ib:ie], f[ib:ie], color='blue')\n",
    "plt.draw()"
   ]
  },
  {
   "cell_type": "code",
   "execution_count": 385,
   "metadata": {},
   "outputs": [
    {
     "data": {
      "text/plain": [
       "0.016"
      ]
     },
     "execution_count": 385,
     "metadata": {},
     "output_type": "execute_result"
    }
   ],
   "source": [
    "1 * dt / dx"
   ]
  },
  {
   "cell_type": "code",
   "execution_count": null,
   "metadata": {},
   "outputs": [],
   "source": []
  }
 ],
 "metadata": {
  "kernelspec": {
   "display_name": "Python 3",
   "language": "python",
   "name": "python3"
  },
  "language_info": {
   "codemirror_mode": {
    "name": "ipython",
    "version": 3
   },
   "file_extension": ".py",
   "mimetype": "text/x-python",
   "name": "python",
   "nbconvert_exporter": "python",
   "pygments_lexer": "ipython3",
   "version": "3.7.3"
  }
 },
 "nbformat": 4,
 "nbformat_minor": 4
}
