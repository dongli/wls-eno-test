{
 "cells": [
  {
   "cell_type": "markdown",
   "metadata": {},
   "source": [
    "# WLS-ENO方法"
   ]
  },
  {
   "cell_type": "markdown",
   "metadata": {},
   "source": [
    "已知未知量在网格单元内的平均值$\\overline{f}_i$\n",
    "\n",
    "- 根据一定的计算模版$\\{I_j:j \\in S_i\\}$重构出网格单元$i$的近似分布$\\tilde{f}_i(x)$\n",
    "\n",
    "$$\\overline{f}_i = \\frac{1}{\\vert \\Omega_i \\vert} \\int_{\\Omega_i} \\tilde{f}_i(x) dx$$\n",
    "\n",
    "其中$S_i$是网格单元$i$的邻居单元编号集合，也即是计算模版，$\\vert \\Omega_i \\vert$是网格单元$i$的体积\n",
    "\n",
    "- 在两个网格单元的交界面会得到两个值$q^-$和$q^+$，用来计算数值通量\n",
    "\n",
    "- $p$次多项式形式为\n",
    "\n",
    "$$\\tilde{f}_i(x) = c_0 + c_1 x + c_2 x^2 + \\dots + c_p x^p$$\n",
    "\n"
   ]
  },
  {
   "cell_type": "code",
   "execution_count": 68,
   "metadata": {},
   "outputs": [],
   "source": [
    "from numpy import linspace, arange, float64, zeros, sin, pi, poly1d, abs\n",
    "from numpy.linalg import lstsq\n",
    "import matplotlib.pyplot as plt"
   ]
  },
  {
   "cell_type": "markdown",
   "metadata": {},
   "source": [
    "# 设置计算参数"
   ]
  },
  {
   "cell_type": "code",
   "execution_count": 69,
   "metadata": {},
   "outputs": [],
   "source": [
    "nx = 32     # Grid number\n",
    "np = 9      # Polynomial degree\n",
    "ns = 13     # Stencil width\n",
    "dt = 0.001  # Time step size (s)\n",
    "nt = 2 / dt # Time step number"
   ]
  },
  {
   "cell_type": "markdown",
   "metadata": {},
   "source": [
    "# 设置内部常数"
   ]
  },
  {
   "cell_type": "markdown",
   "metadata": {},
   "source": [
    "通信边界宽度"
   ]
  },
  {
   "cell_type": "code",
   "execution_count": 70,
   "metadata": {},
   "outputs": [],
   "source": [
    "nh = int((ns - 1) / 2)"
   ]
  },
  {
   "cell_type": "markdown",
   "metadata": {},
   "source": [
    "网格编号边界（用于取实际计算网格）"
   ]
  },
  {
   "cell_type": "code",
   "execution_count": 71,
   "metadata": {},
   "outputs": [],
   "source": [
    "ib = nh\n",
    "ie = nx + nh # +1"
   ]
  },
  {
   "cell_type": "markdown",
   "metadata": {},
   "source": [
    "计算模版中心的相对编号"
   ]
  },
  {
   "cell_type": "code",
   "execution_count": 72,
   "metadata": {},
   "outputs": [],
   "source": [
    "s0 = nh"
   ]
  },
  {
   "cell_type": "code",
   "execution_count": 73,
   "metadata": {},
   "outputs": [
    {
     "name": "stdout",
     "output_type": "stream",
     "text": [
      "nx: 32\n",
      "nh: 6\n",
      "ib: 6\n",
      "ie: 38\n",
      "s0: 6\n"
     ]
    }
   ],
   "source": [
    "print('nx:', nx)\n",
    "print('nh:', nh)\n",
    "print('ib:', ib)\n",
    "print('ie:', ie)\n",
    "print('s0:', s0)"
   ]
  },
  {
   "cell_type": "markdown",
   "metadata": {},
   "source": [
    "# 设置网格\n",
    "\n",
    "这里先假设是等距网格"
   ]
  },
  {
   "cell_type": "code",
   "execution_count": 74,
   "metadata": {},
   "outputs": [],
   "source": [
    "min_x = -1\n",
    "max_x =  1"
   ]
  },
  {
   "cell_type": "code",
   "execution_count": 75,
   "metadata": {},
   "outputs": [],
   "source": [
    "dx = (max_x - min_x) / nx"
   ]
  },
  {
   "cell_type": "markdown",
   "metadata": {},
   "source": [
    "网格中心点坐标"
   ]
  },
  {
   "cell_type": "code",
   "execution_count": 76,
   "metadata": {},
   "outputs": [],
   "source": [
    "x = arange(min_x - dx * nh, max_x + dx * nh, dx, dtype=float64)"
   ]
  },
  {
   "cell_type": "markdown",
   "metadata": {},
   "source": [
    "网格边界坐标"
   ]
  },
  {
   "cell_type": "code",
   "execution_count": 77,
   "metadata": {},
   "outputs": [],
   "source": [
    "xi = arange(x[0] - dx / 2, x[-1] + dx / 2, dx, dtype=float64)"
   ]
  },
  {
   "cell_type": "code",
   "execution_count": 78,
   "metadata": {},
   "outputs": [
    {
     "data": {
      "text/plain": [
       "<matplotlib.legend.Legend at 0x7f8f257aee48>"
      ]
     },
     "execution_count": 78,
     "metadata": {},
     "output_type": "execute_result"
    },
    {
     "data": {
      "image/png": "[encoded data removed]",
      "text/plain": [
       "<Figure size 1080x144 with 1 Axes>"
      ]
     },
     "metadata": {
      "needs_background": "light"
     },
     "output_type": "display_data"
    }
   ],
   "source": [
    "plt.figure(figsize=(15, 2))\n",
    "plt.scatter(x, zeros(len(x)), c='r', label='halo')\n",
    "plt.scatter(x[ib:ie], zeros(len(x[ib:ie])), c='b', label='cells')\n",
    "plt.scatter(xi, zeros(len(xi)), c='g', label='interfaces')\n",
    "plt.xlim(-1.5, 1.5)\n",
    "plt.ylim(-0.05, 0.1)\n",
    "plt.legend()"
   ]
  },
  {
   "cell_type": "markdown",
   "metadata": {},
   "source": [
    "# 边界条件"
   ]
  },
  {
   "cell_type": "code",
   "execution_count": 79,
   "metadata": {},
   "outputs": [],
   "source": [
    "def periodic_boundary(nh, f):\n",
    "    f[:nh] = f[len(f)-2*nh:len(f)-nh]\n",
    "    f[len(f)-nh:] = f[nh:2*nh]"
   ]
  },
  {
   "cell_type": "code",
   "execution_count": 80,
   "metadata": {},
   "outputs": [
    {
     "data": {
      "text/plain": [
       "(-0.05, 0.1)"
      ]
     },
     "execution_count": 80,
     "metadata": {},
     "output_type": "execute_result"
    },
    {
     "data": {
      "image/png": "[encoded data removed]",
      "text/plain": [
       "<Figure size 1080x144 with 1 Axes>"
      ]
     },
     "metadata": {
      "needs_background": "light"
     },
     "output_type": "display_data"
    }
   ],
   "source": [
    "plt.figure(figsize=(15, 2))\n",
    "plt.scatter(x[:nh], zeros(nh), c='r')\n",
    "plt.scatter(x[len(x)-2*nh:len(x)-nh], zeros(nh), c='b')\n",
    "plt.scatter(x[len(x)-nh:], zeros(nh), c='r')\n",
    "plt.scatter(x[nh:2*nh], zeros(nh), c='b')\n",
    "plt.xlim(-1.5, 1.5)\n",
    "plt.ylim(-0.05, 0.1)"
   ]
  },
  {
   "cell_type": "markdown",
   "metadata": {},
   "source": [
    "# 重构矩阵"
   ]
  },
  {
   "cell_type": "markdown",
   "metadata": {},
   "source": [
    "重构矩阵的维度大小为$ns \\times np+1$，以一维情况为例：\n",
    "$$\n",
    "\\mathbf{R} = \\left[ \\begin{array}{cccc}\n",
    "  \\frac{1}{\\Delta{x}_{i-s}} \\left(x_{i-s+\\frac{1}{2}} - x_{i-s-\\frac{1}{2}}\\right) & \\frac{1}{2} \\frac{1}{\\Delta{x}_{i-s}} \\left(x_{i-s+\\frac{1}{2}}^2 - x_{i-s-\\frac{1}{2}}^2\\right) & \\dots & \\frac{1}{p+1} \\frac{1}{\\Delta{x}_{i-s}} \\left(x_{i-s+\\frac{1}{2}}^{p+1} - x_{i-s-\\frac{1}{2}}^{p+1}\\right) \\\\\n",
    "  \\vdots & \\vdots & \\vdots & \\vdots \\\\\n",
    "  \\frac{1}{\\Delta{x}_{i}} \\left(x_{i+\\frac{1}{2}} - x_{i-\\frac{1}{2}}\\right) & \\frac{1}{2} \\frac{1}{\\Delta{x}_{i}} \\left(x_{i+\\frac{1}{2}}^2 - x_{i-\\frac{1}{2}}^2\\right) & \\dots & \\frac{1}{p+1} \\frac{1}{\\Delta{x}_{i}} \\left(x_{i+\\frac{1}{2}}^{p+1} - x_{i-\\frac{1}{2}}^{p+1}\\right) \\\\\n",
    "  \\vdots & \\vdots & \\vdots & \\vdots \\\\\n",
    "  \\frac{1}{\\Delta{x}_{i-s}} \\left(x_{i-s+\\frac{1}{2}} - x_{i-s-\\frac{1}{2}}\\right) & \\frac{1}{2} \\frac{1}{\\Delta{x}_{i-s}} \\left(x_{i-s+\\frac{1}{2}}^2 - x_{i-s-\\frac{1}{2}}^2\\right) & \\dots & \\frac{1}{p+1} \\frac{1}{\\Delta{x}_{i-s}} \\left(x_{i-s+\\frac{1}{2}}^{p+1} - x_{i-s-\\frac{1}{2}}^{p+1}\\right)\n",
    "\\end{array} \\right]\n",
    "$$\n",
    "\n",
    "其中$s$是网格单元$i$一侧的邻居网格数量。\n",
    "\n",
    "$$\\min \\|\\mathbf{W} \\mathbf{R} \\mathbf{c} - \\mathbf{W} \\overline{\\mathbf{f}}\\|_2$$\n",
    "\n",
    "其中$\\mathbf{W}$是对角权重矩阵，维度大小为$ns \\times ns$，向量$\\mathbf{c}$是待求重构系数或多项式系数。"
   ]
  },
  {
   "cell_type": "code",
   "execution_count": 82,
   "metadata": {},
   "outputs": [],
   "source": [
    "R = zeros([ns, np+1])\n",
    "\n",
    "for j in range(ns):\n",
    "    # Relative coordinate (assume uniform grid interval)\n",
    "    #\n",
    "    #        o           o     ...    o    ...    o           o\n",
    "    #  -(ns-1)/2*dx                   0                  (ns-1)/2*dx\n",
    "    #\n",
    "    xj = (j - s0) * dx\n",
    "    xl = xj - dx / 2\n",
    "    xr = xj + dx / 2\n",
    "    for p in range(np+1):\n",
    "        R[j,p] = (xr**(p + 1) - xl**(p + 1)) / (p + 1) / dx"
   ]
  },
  {
   "cell_type": "markdown",
   "metadata": {},
   "source": [
    "# 初始条件"
   ]
  },
  {
   "cell_type": "markdown",
   "metadata": {},
   "source": [
    "## 方波"
   ]
  },
  {
   "cell_type": "code",
   "execution_count": 83,
   "metadata": {},
   "outputs": [],
   "source": [
    "def square_initial_condition(x):\n",
    "    f = zeros(len(x))\n",
    "    for i in range(len(x)):\n",
    "        if -0.4 <= x[i] <= 0.4: f[i] = 1\n",
    "    return f"
   ]
  },
  {
   "cell_type": "markdown",
   "metadata": {},
   "source": [
    "## 正弦函数"
   ]
  },
  {
   "cell_type": "code",
   "execution_count": 84,
   "metadata": {},
   "outputs": [],
   "source": [
    "def sine_initial_condition(x):\n",
    "    f = sin(x / (max_x - min_x) * 2 * pi)\n",
    "    return f"
   ]
  },
  {
   "cell_type": "markdown",
   "metadata": {},
   "source": [
    "# 设置速度"
   ]
  },
  {
   "cell_type": "code",
   "execution_count": 85,
   "metadata": {},
   "outputs": [],
   "source": [
    "u = zeros(len(xi))"
   ]
  },
  {
   "cell_type": "markdown",
   "metadata": {},
   "source": [
    "## 常速度"
   ]
  },
  {
   "cell_type": "code",
   "execution_count": 86,
   "metadata": {},
   "outputs": [],
   "source": [
    "u[:] = 1"
   ]
  },
  {
   "cell_type": "markdown",
   "metadata": {},
   "source": [
    "# 一维平流空间算子"
   ]
  },
  {
   "cell_type": "markdown",
   "metadata": {},
   "source": [
    "使用了Lax-Friedrichs通量分裂算法\n",
    "\n",
    "$$F_{i+\\frac{1}{2}} = \\frac{1}{2} \\left[\\left(F(f_{i+\\frac{1}{2}}^-) + F(f_{i+\\frac{1}{2}}^+)\\right) - \\alpha \\left(f_{i+\\frac{1}{2}}^+ - f_{i+\\frac{1}{2}}^-\\right)\\right]$$\n",
    "\n",
    "其中$f_{i+\\frac{1}{2}}^-$和$f_{i+\\frac{1}{2}}^+$是边界$i+\\frac{1}{2}$上左边值（来自网格单元$i$的重构）和右边值（来自网格单元$i+1$的重构）。"
   ]
  },
  {
   "cell_type": "code",
   "execution_count": 87,
   "metadata": {},
   "outputs": [],
   "source": [
    "def space_operator(nx, x, dx, f):\n",
    "    eps = 1.0e-5\n",
    "    alpha = 10\n",
    "    \n",
    "    fl = zeros(len(x))\n",
    "    fr = zeros(len(x))\n",
    "    for i in range(ib, ie):\n",
    "        fs = zeros(ns) # Stencil values\n",
    "        si = zeros(ns) # Smoothness indicator\n",
    "        for j in range(ns):\n",
    "            fs[j] = f[i-nh+j]\n",
    "            si[j] = (fs[j] - f[i])**2 + eps * (x[i-nh+j] - x[i])**2\n",
    "        si[s0] = min(si[s0-1], si[s0+1])\n",
    "        \n",
    "        W = zeros([ns, ns])\n",
    "        for j in range(ns):\n",
    "            W[j,j] = 1 / si[j]\n",
    "        W[s0,s0] *= alpha\n",
    "        \n",
    "        c = lstsq(W.dot(R), W.dot(fs), rcond=None)[0]\n",
    "        fpoly = poly1d(list(reversed(c))) # in decreasing powers\n",
    "        \n",
    "        # Get the values of left and right edges of cell i.\n",
    "        fl[i] = fpoly(-dx / 2)\n",
    "        fr[i] = fpoly( dx / 2)\n",
    "\n",
    "    # Apply boundary conditions.\n",
    "    periodic_boundary(1, fl[ib-1:ie+1])\n",
    "    \n",
    "    # Calculate numerical flux at right interfaces of cells.\n",
    "    F = zeros(nx+2)\n",
    "    F[1:nx] = 0.5 * (u[ib+1:ie] * (fl[ib+1:ie] + fr[ib:ie-1]) - max(abs(u)) * (fl[ib+1:ie] - fr[ib:ie-1]))\n",
    "    periodic_boundary(1, F)\n",
    "    dFdx = (F[1:-1] - F[:-2]) / dx\n",
    "    return dFdx"
   ]
  },
  {
   "cell_type": "markdown",
   "metadata": {},
   "source": [
    "# 时间积分方案"
   ]
  },
  {
   "cell_type": "code",
   "execution_count": 388,
   "metadata": {},
   "outputs": [],
   "source": [
    "def update(dt, dFdx, f):\n",
    "    f_new = f\n",
    "    f_new[ib:ie] = f[ib:ie] - dt * dFdx\n",
    "    periodic_boundary(nh, f_new)\n",
    "    return f_new"
   ]
  },
  {
   "cell_type": "markdown",
   "metadata": {},
   "source": [
    "## 四阶Runge-Kutta"
   ]
  },
  {
   "cell_type": "code",
   "execution_count": 389,
   "metadata": {},
   "outputs": [],
   "source": [
    "def rk4(nx, x, dx, dt, f):\n",
    "    dFdx1 = space_operator(nx, x, dx, f)\n",
    "    f2 = update(0.5 * dt, dFdx1, f)\n",
    "\n",
    "    dFdx2 = space_operator(nx, x, dx, f2)\n",
    "    f3 = update(0.5 * dt, dFdx2, f)\n",
    "\n",
    "    dFdx3 = space_operator(nx, x, dx, f3)\n",
    "    f4 = update(dt, dFdx3, f)\n",
    "\n",
    "    dFdx4 = space_operator(nx, x, dx, f4)\n",
    "\n",
    "    dFdx = (dFdx1 + 2 * dFdx2 + 2 * dFdx3 + dFdx4) / 6\n",
    "\n",
    "    return update(dt, dFdx, f)"
   ]
  },
  {
   "cell_type": "markdown",
   "metadata": {},
   "source": [
    "# 运行模拟"
   ]
  },
  {
   "cell_type": "code",
   "execution_count": 391,
   "metadata": {},
   "outputs": [
    {
     "data": {
      "image/png": "[encoded data removed]",
      "text/plain": [
       "<Figure size 864x576 with 1 Axes>"
      ]
     },
     "metadata": {
      "needs_background": "light"
     },
     "output_type": "display_data"
    }
   ],
   "source": [
    "f = sine_initial_condition(x)\n",
    "\n",
    "plt.figure(figsize=(12, 8))\n",
    "plt.plot(x[ib:ie], f[ib:ie], color='red')\n",
    "\n",
    "t = 0\n",
    "while t <= 20:\n",
    "    f = rk4(nx, x, dx, dt, f)\n",
    "    t += 1\n",
    "\n",
    "plt.plot(x[ib:ie], f[ib:ie], color='blue')\n",
    "plt.draw()"
   ]
  },
  {
   "cell_type": "code",
   "execution_count": 385,
   "metadata": {},
   "outputs": [
    {
     "data": {
      "text/plain": [
       "0.016"
      ]
     },
     "execution_count": 385,
     "metadata": {},
     "output_type": "execute_result"
    }
   ],
   "source": [
    "1 * dt / dx"
   ]
  },
  {
   "cell_type": "code",
   "execution_count": null,
   "metadata": {},
   "outputs": [],
   "source": []
  }
 ],
 "metadata": {
  "kernelspec": {
   "display_name": "Python 3",
   "language": "python",
   "name": "python3"
  },
  "language_info": {
   "codemirror_mode": {
    "name": "ipython",
    "version": 3
   },
   "file_extension": ".py",
   "mimetype": "text/x-python",
   "name": "python",
   "nbconvert_exporter": "python",
   "pygments_lexer": "ipython3",
   "version": "3.7.3"
  }
 },
 "nbformat": 4,
 "nbformat_minor": 4
}
